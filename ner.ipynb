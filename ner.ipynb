{
 "cells": [
  {
   "cell_type": "code",
   "execution_count": 1,
   "metadata": {},
   "outputs": [],
   "source": [
    "import matplotlib.pyplot as plt\n",
    "from collections import Counter\n",
    "from nltk.corpus import reuters\n",
    "import re\n",
    "import spacy\n",
    "nlp = spacy.load('en_core_web_lg') #, disable=['parser', 'tagger'])\n",
    "reuters_fileids_crude = reuters.fileids(categories=['crude'])\n",
    "# reuters_nlp = [nlp(re.sub('\\s+',' ', reuters.raw(i).strip())) for i in reuters_fileids[:100]]\n",
    "reuters_nlp_crude = [nlp(re.sub('\\s+',' ', reuters.raw(i).strip())) for i in reuters_fileids_crude]\n",
    "reuters_nlp_crude\n",
    "length = [[i,  reuters.raw(i).strip()] for i in reuters_fileids_crude]\n",
    "# label_counter = Counter()\n",
    "# reuters.words()\n",
    "# reuters.sents()\n",
    "# doc = reuters_nlp[50]"
   ]
  },
  {
   "cell_type": "code",
   "execution_count": 2,
   "metadata": {},
   "outputs": [
    {
     "data": {
      "text/plain": [
       "578"
      ]
     },
     "execution_count": 2,
     "metadata": {},
     "output_type": "execute_result"
    }
   ],
   "source": [
    "doc = reuters_nlp_crude\n",
    "len(doc)\n",
    "# doc\n",
    "# [len(reuters_nlp[i]) for i in reuters_fileids(categories=['fuel'])] #reuters_fileids(categories=['fuel']\n",
    "\n",
    "# len(reuters.paras())\n",
    "# reuters.paras()[5]"
   ]
  },
  {
   "cell_type": "code",
   "execution_count": null,
   "metadata": {},
   "outputs": [],
   "source": [
    "import pandas as pd\n",
    "list_ent = []\n",
    "for i in range(len(doc)):\n",
    "    for ent in doc[i].ents:\n",
    "# for ent in doc.ents:\n",
    "    #check if entity is equal 'LOC' or 'GPE'\n",
    "        if ent.label_ in ['LOC', 'GPE', 'ORG']:\n",
    "            if ent.text not in list_ent:\n",
    "                list_ent.append([ent.text, ent.label_])\n",
    "# list_ent\n",
    "df = pd.DataFrame(list_ent, columns=[\"entity\", \"type\"])\n",
    "# df.groupby('type').value_counts()\n",
    "df['type'].value_counts()\n",
    "df.head(20)"
   ]
  },
  {
   "cell_type": "code",
   "execution_count": 3,
   "metadata": {},
   "outputs": [
    {
     "data": {
      "text/html": [
       "<span class=\"tex2jax_ignore\"><div class=\"entities\" style=\"line-height: 2.5; direction: ltr\">\n",
       "<mark class=\"entity\" style=\"background: #feca74; padding: 0.45em 0.6em; margin: 0 0.25em; line-height: 1; border-radius: 0.35em;\">\n",
       "    JAPAN\n",
       "    <span style=\"font-size: 0.8em; font-weight: bold; line-height: 1; border-radius: 0.35em; vertical-align: middle; margin-left: 0.5rem\">GPE</span>\n",
       "</mark>\n",
       " TO REVISE LONG-TERM ENERGY DEMAND DOWNWARDS \n",
       "<mark class=\"entity\" style=\"background: #7aecec; padding: 0.45em 0.6em; margin: 0 0.25em; line-height: 1; border-radius: 0.35em;\">\n",
       "    The Ministry of International Trade and Industry\n",
       "    <span style=\"font-size: 0.8em; font-weight: bold; line-height: 1; border-radius: 0.35em; vertical-align: middle; margin-left: 0.5rem\">ORG</span>\n",
       "</mark>\n",
       " (\n",
       "<mark class=\"entity\" style=\"background: #7aecec; padding: 0.45em 0.6em; margin: 0 0.25em; line-height: 1; border-radius: 0.35em;\">\n",
       "    MITI\n",
       "    <span style=\"font-size: 0.8em; font-weight: bold; line-height: 1; border-radius: 0.35em; vertical-align: middle; margin-left: 0.5rem\">ORG</span>\n",
       "</mark>\n",
       ") will revise its long-term energy supply/demand outlook by \n",
       "<mark class=\"entity\" style=\"background: #bfe1d9; padding: 0.45em 0.6em; margin: 0 0.25em; line-height: 1; border-radius: 0.35em;\">\n",
       "    August\n",
       "    <span style=\"font-size: 0.8em; font-weight: bold; line-height: 1; border-radius: 0.35em; vertical-align: middle; margin-left: 0.5rem\">DATE</span>\n",
       "</mark>\n",
       " to meet a forecast downtrend in \n",
       "<mark class=\"entity\" style=\"background: #c887fb; padding: 0.45em 0.6em; margin: 0 0.25em; line-height: 1; border-radius: 0.35em;\">\n",
       "    Japanese\n",
       "    <span style=\"font-size: 0.8em; font-weight: bold; line-height: 1; border-radius: 0.35em; vertical-align: middle; margin-left: 0.5rem\">NORP</span>\n",
       "</mark>\n",
       " energy demand, ministry officials said. \n",
       "<mark class=\"entity\" style=\"background: #7aecec; padding: 0.45em 0.6em; margin: 0 0.25em; line-height: 1; border-radius: 0.35em;\">\n",
       "    MITI\n",
       "    <span style=\"font-size: 0.8em; font-weight: bold; line-height: 1; border-radius: 0.35em; vertical-align: middle; margin-left: 0.5rem\">ORG</span>\n",
       "</mark>\n",
       " is expected to lower the projection for primary energy supplies in \n",
       "<mark class=\"entity\" style=\"background: #bfe1d9; padding: 0.45em 0.6em; margin: 0 0.25em; line-height: 1; border-radius: 0.35em;\">\n",
       "    the year 2000\n",
       "    <span style=\"font-size: 0.8em; font-weight: bold; line-height: 1; border-radius: 0.35em; vertical-align: middle; margin-left: 0.5rem\">DATE</span>\n",
       "</mark>\n",
       " to \n",
       "<mark class=\"entity\" style=\"background: #e4e7d2; padding: 0.45em 0.6em; margin: 0 0.25em; line-height: 1; border-radius: 0.35em;\">\n",
       "    550 mln\n",
       "    <span style=\"font-size: 0.8em; font-weight: bold; line-height: 1; border-radius: 0.35em; vertical-align: middle; margin-left: 0.5rem\">MONEY</span>\n",
       "</mark>\n",
       " kilolitres (kl) from \n",
       "<mark class=\"entity\" style=\"background: #e4e7d2; padding: 0.45em 0.6em; margin: 0 0.25em; line-height: 1; border-radius: 0.35em;\">\n",
       "    600 mln\n",
       "    <span style=\"font-size: 0.8em; font-weight: bold; line-height: 1; border-radius: 0.35em; vertical-align: middle; margin-left: 0.5rem\">MONEY</span>\n",
       "</mark>\n",
       ", they said. The decision follows the emergence of structural changes in \n",
       "<mark class=\"entity\" style=\"background: #c887fb; padding: 0.45em 0.6em; margin: 0 0.25em; line-height: 1; border-radius: 0.35em;\">\n",
       "    Japanese\n",
       "    <span style=\"font-size: 0.8em; font-weight: bold; line-height: 1; border-radius: 0.35em; vertical-align: middle; margin-left: 0.5rem\">NORP</span>\n",
       "</mark>\n",
       " industry following the rise in the value of the yen and a decline in domestic electric power demand. \n",
       "<mark class=\"entity\" style=\"background: #7aecec; padding: 0.45em 0.6em; margin: 0 0.25em; line-height: 1; border-radius: 0.35em;\">\n",
       "    MITI\n",
       "    <span style=\"font-size: 0.8em; font-weight: bold; line-height: 1; border-radius: 0.35em; vertical-align: middle; margin-left: 0.5rem\">ORG</span>\n",
       "</mark>\n",
       " is planning to work out a revised energy supply/demand outlook through deliberations of committee meetings of \n",
       "<mark class=\"entity\" style=\"background: #7aecec; padding: 0.45em 0.6em; margin: 0 0.25em; line-height: 1; border-radius: 0.35em;\">\n",
       "    the Agency of Natural Resources and Energy\n",
       "    <span style=\"font-size: 0.8em; font-weight: bold; line-height: 1; border-radius: 0.35em; vertical-align: middle; margin-left: 0.5rem\">ORG</span>\n",
       "</mark>\n",
       ", the officials said. They said \n",
       "<mark class=\"entity\" style=\"background: #7aecec; padding: 0.45em 0.6em; margin: 0 0.25em; line-height: 1; border-radius: 0.35em;\">\n",
       "    MITI\n",
       "    <span style=\"font-size: 0.8em; font-weight: bold; line-height: 1; border-radius: 0.35em; vertical-align: middle; margin-left: 0.5rem\">ORG</span>\n",
       "</mark>\n",
       " will also review the breakdown of energy supply sources, including oil, nuclear, coal and natural gas. Nuclear energy provided the bulk of \n",
       "<mark class=\"entity\" style=\"background: #feca74; padding: 0.45em 0.6em; margin: 0 0.25em; line-height: 1; border-radius: 0.35em;\">\n",
       "    Japan\n",
       "    <span style=\"font-size: 0.8em; font-weight: bold; line-height: 1; border-radius: 0.35em; vertical-align: middle; margin-left: 0.5rem\">GPE</span>\n",
       "</mark>\n",
       "'s electric power in \n",
       "<mark class=\"entity\" style=\"background: #bfe1d9; padding: 0.45em 0.6em; margin: 0 0.25em; line-height: 1; border-radius: 0.35em;\">\n",
       "    the fiscal year ended March 31\n",
       "    <span style=\"font-size: 0.8em; font-weight: bold; line-height: 1; border-radius: 0.35em; vertical-align: middle; margin-left: 0.5rem\">DATE</span>\n",
       "</mark>\n",
       ", supplying \n",
       "<mark class=\"entity\" style=\"background: #e4e7d2; padding: 0.45em 0.6em; margin: 0 0.25em; line-height: 1; border-radius: 0.35em;\">\n",
       "    an estimated\n",
       "    <span style=\"font-size: 0.8em; font-weight: bold; line-height: 1; border-radius: 0.35em; vertical-align: middle; margin-left: 0.5rem\">CARDINAL</span>\n",
       "</mark>\n",
       " 27 pct on \n",
       "<mark class=\"entity\" style=\"background: #e4e7d2; padding: 0.45em 0.6em; margin: 0 0.25em; line-height: 1; border-radius: 0.35em;\">\n",
       "    a kilowatt/hour\n",
       "    <span style=\"font-size: 0.8em; font-weight: bold; line-height: 1; border-radius: 0.35em; vertical-align: middle; margin-left: 0.5rem\">QUANTITY</span>\n",
       "</mark>\n",
       " basis, followed by oil (\n",
       "<mark class=\"entity\" style=\"background: #e4e7d2; padding: 0.45em 0.6em; margin: 0 0.25em; line-height: 1; border-radius: 0.35em;\">\n",
       "    23\n",
       "    <span style=\"font-size: 0.8em; font-weight: bold; line-height: 1; border-radius: 0.35em; vertical-align: middle; margin-left: 0.5rem\">CARDINAL</span>\n",
       "</mark>\n",
       " pct) and liquefied natural gas (\n",
       "<mark class=\"entity\" style=\"background: #e4e7d2; padding: 0.45em 0.6em; margin: 0 0.25em; line-height: 1; border-radius: 0.35em;\">\n",
       "    21\n",
       "    <span style=\"font-size: 0.8em; font-weight: bold; line-height: 1; border-radius: 0.35em; vertical-align: middle; margin-left: 0.5rem\">CARDINAL</span>\n",
       "</mark>\n",
       " pct), they noted.</div></span>"
      ],
      "text/plain": [
       "<IPython.core.display.HTML object>"
      ]
     },
     "metadata": {},
     "output_type": "display_data"
    }
   ],
   "source": [
    "from spacy import displacy\n",
    "displacy.render(doc[0],style='ent')"
   ]
  },
  {
   "cell_type": "code",
   "execution_count": 5,
   "metadata": {},
   "outputs": [
    {
     "name": "stdout",
     "output_type": "stream",
     "text": [
      "JAPAN 0 5 384\n",
      "The Ministry of International Trade and Industry 50 98 383\n",
      "MITI 100 104 383\n",
      "August 164 170 391\n",
      "Japanese 203 211 381\n",
      "MITI 252 256 383\n",
      "the year 2000 324 337 391\n",
      "550 mln 341 348 394\n",
      "600 mln 370 377 394\n",
      "Japanese 450 458 381\n",
      "MITI 560 564 383\n",
      "the Agency of Natural Resources and Energy 675 717 383\n",
      "MITI 749 753 383\n",
      "Japan 893 898 384\n",
      "the fiscal year ended March 31 919 949 391\n",
      "an estimated 961 973 397\n",
      "a kilowatt/hour 984 999 395\n",
      "23 1024 1026 397\n",
      "21 1059 1061 397\n"
     ]
    }
   ],
   "source": [
    "for ent in doc[0].ents:\n",
    "    print(ent.text, ent.start_char, ent.end_char, ent.label)\n"
   ]
  },
  {
   "cell_type": "code",
   "execution_count": null,
   "metadata": {},
   "outputs": [],
   "source": []
  },
  {
   "cell_type": "code",
   "execution_count": null,
   "metadata": {},
   "outputs": [],
   "source": [
    "article = []\n",
    "for i in range(2):\n",
    "    article.append()"
   ]
  },
  {
   "cell_type": "code",
   "execution_count": 8,
   "metadata": {},
   "outputs": [],
   "source": [
    "import requests\n",
    "from bs4 import BeautifulSoup\n",
    "import re"
   ]
  },
  {
   "cell_type": "code",
   "execution_count": 3,
   "metadata": {},
   "outputs": [],
   "source": [
    "import spacy\n",
    "\n",
    "nlp = spacy.load('en_core_web_sm')"
   ]
  },
  {
   "cell_type": "code",
   "execution_count": 6,
   "metadata": {},
   "outputs": [
    {
     "name": "stdout",
     "output_type": "stream",
     "text": [
      "Requirement already satisfied: beautifulsoup4 in c:\\users\\seba\\anaconda3\\envs\\nlp\\lib\\site-packages (4.10.0)\n",
      "Requirement already satisfied: soupsieve>1.2 in c:\\users\\seba\\anaconda3\\envs\\nlp\\lib\\site-packages (from beautifulsoup4) (2.3.1)\n"
     ]
    }
   ],
   "source": []
  },
  {
   "cell_type": "code",
   "execution_count": 61,
   "metadata": {},
   "outputs": [
    {
     "ename": "AttributeError",
     "evalue": "'spacy.tokens.doc.Doc' object has no attribute 'ent'",
     "output_type": "error",
     "traceback": [
      "\u001b[1;31m---------------------------------------------------------------------------\u001b[0m",
      "\u001b[1;31mAttributeError\u001b[0m                            Traceback (most recent call last)",
      "Input \u001b[1;32mIn [61]\u001b[0m, in \u001b[0;36m<module>\u001b[1;34m\u001b[0m\n\u001b[0;32m      5\u001b[0m \u001b[38;5;28;01mfor\u001b[39;00m table \u001b[38;5;129;01min\u001b[39;00m soup\u001b[38;5;241m.\u001b[39mfind_all(\u001b[38;5;124m'\u001b[39m\u001b[38;5;124mtable\u001b[39m\u001b[38;5;124m'\u001b[39m,{\u001b[38;5;124m'\u001b[39m\u001b[38;5;124mclass\u001b[39m\u001b[38;5;124m'\u001b[39m:\u001b[38;5;124m'\u001b[39m\u001b[38;5;124mwikitable\u001b[39m\u001b[38;5;124m'\u001b[39m}):\n\u001b[0;32m      6\u001b[0m     \u001b[38;5;28;01mfor\u001b[39;00m t \u001b[38;5;129;01min\u001b[39;00m table\u001b[38;5;241m.\u001b[39mfind_all(\u001b[38;5;124m'\u001b[39m\u001b[38;5;124ma\u001b[39m\u001b[38;5;124m'\u001b[39m):\n\u001b[0;32m      7\u001b[0m         \u001b[38;5;66;03m#_companies.append(t.get('title'))\u001b[39;00m\n\u001b[1;32m----> 8\u001b[0m         \u001b[38;5;28mprint\u001b[39m(\u001b[43mget_ent\u001b[49m\u001b[43m(\u001b[49m\u001b[43mt\u001b[49m\u001b[38;5;241;43m.\u001b[39;49m\u001b[43mget\u001b[49m\u001b[43m(\u001b[49m\u001b[38;5;124;43m'\u001b[39;49m\u001b[38;5;124;43mtitle\u001b[39;49m\u001b[38;5;124;43m'\u001b[39;49m\u001b[43m)\u001b[49m\u001b[43m)\u001b[49m)\n",
      "Input \u001b[1;32mIn [60]\u001b[0m, in \u001b[0;36mget_ent\u001b[1;34m(stringg)\u001b[0m\n\u001b[0;32m      1\u001b[0m \u001b[38;5;28;01mdef\u001b[39;00m \u001b[38;5;21mget_ent\u001b[39m(stringg):\n\u001b[0;32m      2\u001b[0m     doc \u001b[38;5;241m=\u001b[39m nlp(stringg)\n\u001b[1;32m----> 4\u001b[0m     \u001b[38;5;28;01mif\u001b[39;00m \u001b[43mdoc\u001b[49m\u001b[38;5;241;43m.\u001b[39;49m\u001b[43ment\u001b[49m\u001b[38;5;241m.\u001b[39mlabel_ \u001b[38;5;129;01mis\u001b[39;00m \u001b[38;5;124m'\u001b[39m\u001b[38;5;124mGPE\u001b[39m\u001b[38;5;124m'\u001b[39m:\n\u001b[0;32m      5\u001b[0m         \u001b[38;5;28mprint\u001b[39m([doc\u001b[38;5;241m.\u001b[39ments\u001b[38;5;241m.\u001b[39mtext,doc\u001b[38;5;241m.\u001b[39ments\u001b[38;5;241m.\u001b[39mlabel_])\n\u001b[0;32m      6\u001b[0m     \u001b[38;5;28;01melse\u001b[39;00m:\n",
      "\u001b[1;31mAttributeError\u001b[0m: 'spacy.tokens.doc.Doc' object has no attribute 'ent'"
     ]
    }
   ],
   "source": [
    "_companies = []\n",
    "\n",
    "r= requests.get('https://en.wikipedia.org/wiki/List_of_oil_exploration_and_production_companies')\n",
    "soup = BeautifulSoup(r.text,'html.parser')\n",
    "for table in soup.find_all('table',{'class':'wikitable'}):\n",
    "    for t in table.find_all('a'):\n",
    "        #_companies.append(t.get('title'))\n",
    "        print(get_ent(t.get('title')))"
   ]
  },
  {
   "cell_type": "code",
   "execution_count": 25,
   "metadata": {},
   "outputs": [
    {
     "data": {
      "text/plain": [
       "\"Sonatrach/Algeria/Sonangol Group/Angola/Société Nationale des Pétroles du Congo/Republic of the Congo/EGPC & EGAS & GANOPE (page does not exist)/Egypt/Star Africa Commodities & Minerals Limited/Ghana/Arabian Gulf Oil Company/Libya/National Oil Corporation/Madagascar Oil/Madagascar/Aiteo/Nigeria/Lekoil Limited/Nigerian National Petroleum Corporation/SEPLAT Energy (page does not exist)/PetroSA/South Africa/Sasol/Sudapet/Sudan/Tanzania Petroleum Development Corporation/Tanzania/Entreprise Tunisienne d'Activités Pétrolières/Tunisia/Azerbaijan International Operating Company/Azerbaijan/SOCAR/Nobel Oil Group/Brunei Shell Petroleum/Brunei/Bahrain Petroleum Company/Bahrain/Petrobangla/Bangladesh/Myanma Oil and Gas Enterprise/Myanmar/China National Offshore Oil Corporation/China/China National Petroleum Corporation/CITIC Resources/Geo-Jade Petroleum/Shaanxi Yanchang Petroleum/Sinochem Group/China Petrochemical Corporation/Southernpec/The Hong Kong and China Gas Company/Hong Kong/United Energy Group/Gujarat State Petroleum Corporation/India/Oil and Natural Gas Corporation/Indian Oil Corporation Limited/Nayara Energy/Reliance Industries/Cairn India/MedcoEnergi/Indonesia/Pertamina/National Iranian Oil Company/Iran/North Oil Company/Iraq/South Oil Company/Missan Oil Company/Midland Oil Company/Delek/Israel/Isramco/Modiin Energy/Eneos/Japan/Inpex/JAPEX/KazMunayGas/Kazakhstan/Kuwait Petroleum Corporation/Kuwait/Consolidated Contractors Company/Lebanon/Petronas/Malaysia/Petroleum Development Oman/Oman/Oil and Gas Development Company/Pakistan/Pakistan Petroleum/Pakistan Oilfields/Mari Petroleum Company Limited/Petron Corporation/Philippines/Philippine National Oil Company/Qatar Petroleum/Qatar/Saudi Aramco/Saudi Arabia/Singapore Petroleum Company/Singapore/Ceylon Petroleum Corporation/Sri Lanka/Korea National Oil Corporation/South Korea/Korea Gas Corporation/CPC Corporation/Taiwan/PTT Public Company Limited/Thailand/Thai Oil/Türkiye Petrolleri Anonim Ortaklığı/Turkey/Çalık Enerji/Abu Dhabi National Oil Company/United Arab Emirates/Emirates National Oil Company/Uzbekneftegaz/Uzbekistan/Petrovietnam/Vietnam/Vietsovpetro/OMV/Austria/Rohöl-Aufsuchungs Aktiengesellschaft/Petrol AD/Bulgaria/INA (company)/Croatia/Moravské naftové doly/Czech Republic/Ørsted (company)/Denmark/Atlantic Petroleum (Faroe Islands)/Faroe Islands/Neste/Finland/Total S.A./France/Engie/Perenco/France/United Kingdom/Wintershall Dea/Germany/Hellenic Petroleum/Greece/MOL Group/Hungary/Maxol/Republic of Ireland/Anonima Petroli Italiana/Italy/Edison (company)/Edoardo Raffinerie Garrone/Eni/Saras S.p.A./Ascom Group/Moldova/Royal Dutch Shell/Netherlands/United Kingdom/Makpetrol/North Macedonia/Aker BP/Norway/Bayerngas Norge/DNO ASA/Equinor/InterOil Exploration and Production/Noreco/Rocksource/Grupa Lotos/Poland/PGNiG/PKN Orlen/Galp Energia/Portugal/Partex/Petrom/Romania/Rompetrol/Bashneft/Russia/Gazprom/Itera/Lukoil/Novatek/Rosneft/Rusneftegaz/Russneft/Sakhalin Energy/Surgutneftegas/Tatneft/Naftna Industrija Srbije/Serbia/Compañía Española de Petróleos/Spain/Repsol/Lundin Energy/Sweden/Naftogaz/Ukraine/BP/United Kingdom/Cairn Energy/Centrica/Dana Petroleum/Premier Oil/Regal Petroleum/Tullow Oil/ARC Resources/Canada/Baytex Energy/Canadian Natural Resources/Cenovus Energy/Crescent Point Energy/Enbridge/Enerplus/First Calgary Petroleums/Frontera Energy/Imperial Oil/Irving Oil/MEG Energy/Nalcor Energy/Obsidian Energy/Questerre Energy/Ridgeback Resources/Suncor Energy/Syncrude/ShaMaran Petroleum/TC Energy/Vermilion Energy/Cuba Petróleo Union/Cuba/Gasolineras Uno/Honduras/Pemex/Mexico/Petrotrin/Trinidad and Tobago/Antero Resources/United States/APA Corporation/Berry Petroleum Company/Blacksands Pacific/California Resources Corporation/Chesapeake Energy/Chevron Corporation/CNX Resources/ConocoPhillips/Continental Resources/Coterra/Denbury Inc./Devon Energy/Diamondback Energy/EOG Resources/EQT/ExxonMobil/Greka Energy/Hess Corporation/HKN, Inc./Koch Industries/Laredo Petroleum/Marathon Oil/Murphy Oil/Oasis Petroleum/Occidental Petroleum/Ovintiv/Pioneer Natural Resources/Range Resources/SandRidge Energy/Shell Oil Company/SM Energy/Southwestern Energy/Vaalco Energy/Whiting Petroleum Corporation/XTO Energy/Australian Worldwide Exploration/Australia/BHP/Origin Energy/Santos Limited/Woodside Petroleum/Todd Corporation/New Zealand/Oil Search/Papua New Guinea/Bridas Corporation/Argentina/YPF/YPFB/Bolivia/Petrobras/Brazil/Empresa Nacional del Petróleo/Chile/Empresas Copec/Ecopetrol/Colombia/Petroecuador/Ecuador/Petróleos Paraguayos/Paraguay/Petroperú/Peru/ANCAP (Uruguay)/Uruguay/PDVSA/Venezuela\""
      ]
     },
     "execution_count": 25,
     "metadata": {},
     "output_type": "execute_result"
    }
   ],
   "source": [
    "stringg = ''\n",
    "\n",
    "stringg = '/'.join(_companies)\n",
    "stringg"
   ]
  },
  {
   "cell_type": "code",
   "execution_count": 60,
   "metadata": {},
   "outputs": [],
   "source": [
    "def get_ent(stringg):\n",
    "    doc = nlp(stringg)\n",
    "    \n",
    "    if doc.ents.label_ is 'GPE':\n",
    "        print([doc.ents.text,doc.ents.label_])\n",
    "    else:\n",
    "        print(stringg)"
   ]
  },
  {
   "cell_type": "code",
   "execution_count": null,
   "metadata": {},
   "outputs": [],
   "source": []
  }
 ],
 "metadata": {
  "interpreter": {
   "hash": "844750d5e47ed69586078e214d510ee037c49cfe135224478769d7a6fad57b7d"
  },
  "kernelspec": {
   "display_name": "Python 3.8.12 64-bit ('gpu_tf': conda)",
   "language": "python",
   "name": "python3"
  },
  "language_info": {
   "codemirror_mode": {
    "name": "ipython",
    "version": 3
   },
   "file_extension": ".py",
   "mimetype": "text/x-python",
   "name": "python",
   "nbconvert_exporter": "python",
   "pygments_lexer": "ipython3",
   "version": "3.8.12"
  },
  "orig_nbformat": 4
 },
 "nbformat": 4,
 "nbformat_minor": 2
}
